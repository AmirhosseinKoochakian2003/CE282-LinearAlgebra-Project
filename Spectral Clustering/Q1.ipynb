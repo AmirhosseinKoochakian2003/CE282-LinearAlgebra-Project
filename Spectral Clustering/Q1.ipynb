{
 "cells": [
  {
   "cell_type": "markdown",
   "metadata": {},
   "source": [
    "# CE282: Linear Algebra"
   ]
  },
  {
   "cell_type": "markdown",
   "metadata": {},
   "source": [
    "## Final Project"
   ]
  },
  {
   "cell_type": "markdown",
   "metadata": {},
   "source": [
    "Full Name: Amirhossein Koochakian\n",
    "\n",
    "Student ID: 400105199\n"
   ]
  },
  {
   "cell_type": "markdown",
   "metadata": {},
   "source": [
    "## Q1: Spectral Clustering (100 Points)"
   ]
  },
  {
   "cell_type": "markdown",
   "metadata": {},
   "source": [
    "## Introduction\n",
    "Spectral clustering is a clustering technique that uses the spectrum of the similarity matrix to perform dimensionality reduction before clustering in fewer dimensions. It is a powerful technique that can identify clusters of arbitrary shape and is robust to noise. It is also a popular technique for image segmentation. In this notebook, we will implement spectral clustering from scratch and apply it to graphs and kNN circles."
   ]
  },
  {
   "cell_type": "markdown",
   "metadata": {},
   "source": [
    "## Graph Implementation\n",
    "In this section, we will implement a graph class that will be used to represent the similarity matrix. The graph class will have the following attributes and methods:\n",
    "* **N**: the number of nodes in the graph\n",
    "* **nodes**: the set of nodes in the graph\n",
    "* **vertices**: the dict of edges of each node\n",
    "* **add_node**: Add a node to the graph\n",
    "* **connect**: Connect two nodes with an edge\n",
    "* **disconnect**: Disconnect two nodes"
   ]
  },
  {
   "cell_type": "code",
   "execution_count": 18,
   "metadata": {},
   "outputs": [],
   "source": [
    "class Graph:\n",
    "    def __init__(self) -> None:\n",
    "        self.N: int = 0\n",
    "        self.nodes: set[int] = set()\n",
    "        self.vertices: dict[int, set[int]] = dict()\n",
    "\n",
    "    def add_node(self):\n",
    "        self.nodes.add(self.N)\n",
    "        self.vertices[self.N] = set()\n",
    "        self.N += 1\n",
    "\n",
    "    def connect(self, A: int, B: int):\n",
    "        assert A < self.N\n",
    "        assert A >= 0\n",
    "        assert B < self.N\n",
    "        assert B >= 0\n",
    "        assert A != B\n",
    "        self.vertices[A].add(B)\n",
    "        self.vertices[B].add(A)\n",
    "\n",
    "    def disconnect(self, A: int, B: int):\n",
    "        assert A < self.N\n",
    "        assert A >= 0\n",
    "        assert B < self.N\n",
    "        assert B >= 0\n",
    "        assert A != B\n",
    "        assert A in self.vertices[B]\n",
    "        assert B in self.vertices[A]\n",
    "        \n",
    "        self.vertices[A].remove(B)\n",
    "        self.vertices[B].remove(A)"
   ]
  },
  {
   "cell_type": "markdown",
   "metadata": {},
   "source": [
    "## Constructing the Similarity Matrix\n",
    "First we need to construct adjacency matrix.\n",
    "Adjacency matrix is a matrix of size $N \\times N$, where $N$ is the number of nodes in the graph. The entry $A_{ij} = 1$ if there is an edge connecting node $i$ and node $j$. If there is no edge connecting node $i$ and node $j$, then $A_{ij} = 0$."
   ]
  },
  {
   "cell_type": "code",
   "execution_count": 19,
   "metadata": {},
   "outputs": [],
   "source": [
    "import numpy as np\n",
    "\n",
    "def adjacency_matrix(graph: Graph) -> np.ndarray:\n",
    "    adj_matrix = np.zeros((graph.N, graph.N), dtype=int)\n",
    "    for i in graph.nodes :\n",
    "        for neighbor in graph.vertices[i] :\n",
    "            adj_matrix[i][neighbor] = 1\n",
    "    return adj_matrix"
   ]
  },
  {
   "cell_type": "markdown",
   "metadata": {},
   "source": [
    "Then we need to construct the degree matrix.\n",
    "Degree matrix is a diagonal matrix of size $N \\times N$, where $N$ is the number of nodes in the graph. The entry $D_{ii}$ is the degree of node $i$, i.e. the number of edges connected to node $i$. All other entries are 0."
   ]
  },
  {
   "cell_type": "code",
   "execution_count": 20,
   "metadata": {},
   "outputs": [],
   "source": [
    "def degree_matrix(graph: Graph) -> np.ndarray:\n",
    "    degree_mat = np.zeros((graph.N, graph.N), dtype=int)\n",
    "    for i in graph.nodes :\n",
    "        degree_mat[i][i] = len(graph.vertices[i])\n",
    "    return degree_mat"
   ]
  },
  {
   "cell_type": "markdown",
   "metadata": {},
   "source": [
    "Finally, we can construct the laplacian matrix.\n",
    "Laplacian matrix is a matrix of size $N \\times N$, where $N$ is the number of nodes in the graph. There are many ways to define the laplacian between two nodes. In this notebook, we will use normal Laplacian similarity matrix, which is defined as:\n",
    "\\begin{equation}\n",
    "S_{ij} = D_{ij} - A_{ij}\n",
    "\\end{equation}\n",
    "where $D_{ij}$ is the degree matrix and $A_{ij}$ is the adjacency matrix."
   ]
  },
  {
   "cell_type": "code",
   "execution_count": 21,
   "metadata": {},
   "outputs": [],
   "source": [
    "def laplacian_matrix(graph: Graph) -> np.ndarray:\n",
    "    laplacian_mat = degree_matrix(graph) - adjacency_matrix(graph)\n",
    "    return laplacian_mat"
   ]
  },
  {
   "cell_type": "markdown",
   "metadata": {},
   "source": [
    "## Calculating Eigenvectors and Eigenvalues\n",
    "After constructing the similarity matrix, we can calculate the eigenvectors and eigenvalues of the similarity matrix. We can then use the eigenvectors to perform dimensionality reduction. In this notebook, we will use the eigenvectors corresponding to the $k$ smallest eigenvalues, where $k$ is the number of clusters."
   ]
  },
  {
   "cell_type": "markdown",
   "metadata": {},
   "source": [
    "* Eigenvalues of laplacian matrix are always non-negative. Laplacian matrix is a positive semi-definite matrix.\n",
    "* The first eigenvalue is always 0, and the corresponding eigenvector is the vector of all ones since the sum of each row of the laplacian matrix is 0.\n",
    "* The second smallest eigenvalue is called the Fielder value (Algebraic connectivity). It is a measure of how well connected the graph is after removing the most poorly connected node. The Fielder value is often used to approximate sparsest cut of the graph. If the graph is connected, then the Fielder value is positive. If the graph is disconnected, then the Fielder value is 0. The number of times 0 appears as an eigenvalue is equal to the number of connected components in the graph."
   ]
  },
  {
   "cell_type": "code",
   "execution_count": 22,
   "metadata": {},
   "outputs": [],
   "source": [
    "def laplacian_values(graph: Graph, K: int) -> tuple[np.ndarray, np.ndarray]:\n",
    "    assert K > 0\n",
    "    assert K < graph.N\n",
    "\n",
    "    eigenvalues, eigenvectors = np.linalg.eig(laplacian_matrix(graph))\n",
    "    \n",
    "    # sort eigenvalues and eigenvectors in ascending order\n",
    "    sorted_indices = np.argsort(eigenvalues)\n",
    "    sorted_eigenvalues = eigenvalues[sorted_indices]\n",
    "    sorted_eigenvectors = eigenvectors[:, sorted_indices]\n",
    "    \n",
    "    # Find the k non zero eigenvalues\n",
    "    nonzero_eigenvalues = np.nonzero(sorted_indices)[0][:K]\n",
    "    \n",
    "    # Get the K smallest non-zero eigenvalues and their corresponding eigenvectors\n",
    "    k_smallest_eigenvalues = sorted_eigenvalues[nonzero_eigenvalues]\n",
    "    k_smallest_eigenvectors = sorted_eigenvectors[:, nonzero_eigenvalues]\n",
    "    return k_smallest_eigenvalues, k_smallest_eigenvectors"
   ]
  },
  {
   "cell_type": "markdown",
   "metadata": {},
   "source": [
    "## Plotting Eigenvalues"
   ]
  },
  {
   "cell_type": "markdown",
   "metadata": {},
   "source": [
    "After becoming familiar with laplacian matrix, we can plot the eigenvalues of the laplacian matrix. The eigenvalues are plotted in ascending order. The x-axis is the index of the eigenvalue, and the y-axis is the value of the eigenvalue. The eigenvalues are plotted as a scatter plot."
   ]
  },
  {
   "cell_type": "code",
   "execution_count": 23,
   "metadata": {},
   "outputs": [
    {
     "data": {
      "image/png": "[encoded data removed]",
      "text/plain": [
       "<Figure size 432x288 with 1 Axes>"
      ]
     },
     "metadata": {
      "needs_background": "light"
     },
     "output_type": "display_data"
    }
   ],
   "source": [
    "import matplotlib.pyplot as plt\n",
    "\n",
    "g = Graph()\n",
    "g.add_node()\n",
    "g.add_node()\n",
    "g.add_node()\n",
    "g.add_node()\n",
    "\n",
    "eigenvalues, eigenvectors = np.linalg.eig(laplacian_matrix(g))\n",
    "sorted_indices = np.argsort(eigenvalues)\n",
    "sorted_eigenvalues = eigenvalues[sorted_indices]\n",
    "plt.scatter(list(range(len(eigenvalues))), sorted_eigenvalues)\n",
    "plt.xlabel(\"index\")\n",
    "plt.ylabel(\"values\")\n",
    "plt.grid()\n",
    "plt.show()"
   ]
  },
  {
   "cell_type": "code",
   "execution_count": 24,
   "metadata": {},
   "outputs": [
    {
     "data": {
      "image/png": "[encoded data removed]",
      "text/plain": [
       "<Figure size 432x288 with 1 Axes>"
      ]
     },
     "metadata": {
      "needs_background": "light"
     },
     "output_type": "display_data"
    }
   ],
   "source": [
    "g.connect(0, 1)\n",
    "\n",
    "eigenvalues, eigenvectors = np.linalg.eig(laplacian_matrix(g))\n",
    "sorted_indices = np.argsort(eigenvalues)\n",
    "sorted_eigenvalues = eigenvalues[sorted_indices]\n",
    "plt.scatter(list(range(len(eigenvalues))), sorted_eigenvalues)\n",
    "plt.xlabel(\"index\")\n",
    "plt.ylabel(\"values\")\n",
    "plt.grid()\n",
    "plt.show()"
   ]
  },
  {
   "cell_type": "code",
   "execution_count": 25,
   "metadata": {},
   "outputs": [
    {
     "data": {
      "image/png": "[encoded data removed]",
      "text/plain": [
       "<Figure size 432x288 with 1 Axes>"
      ]
     },
     "metadata": {
      "needs_background": "light"
     },
     "output_type": "display_data"
    }
   ],
   "source": [
    "g.connect(1, 2)\n",
    "\n",
    "eigenvalues, eigenvectors = np.linalg.eig(laplacian_matrix(g))\n",
    "sorted_indices = np.argsort(eigenvalues)\n",
    "sorted_eigenvalues = eigenvalues[sorted_indices]\n",
    "plt.scatter(list(range(len(eigenvalues))), sorted_eigenvalues)\n",
    "plt.xlabel(\"index\")\n",
    "plt.ylabel(\"values\")\n",
    "plt.grid()\n",
    "plt.show()"
   ]
  },
  {
   "cell_type": "code",
   "execution_count": 26,
   "metadata": {},
   "outputs": [
    {
     "data": {
      "image/png": "[encoded data removed]",
      "text/plain": [
       "<Figure size 432x288 with 1 Axes>"
      ]
     },
     "metadata": {
      "needs_background": "light"
     },
     "output_type": "display_data"
    }
   ],
   "source": [
    "g.connect(2, 3)\n",
    "\n",
    "eigenvalues, eigenvectors = np.linalg.eig(laplacian_matrix(g))\n",
    "sorted_indices = np.argsort(eigenvalues)\n",
    "sorted_eigenvalues = eigenvalues[sorted_indices]\n",
    "plt.scatter(list(range(len(eigenvalues))), sorted_eigenvalues)\n",
    "plt.xlabel(\"index\")\n",
    "plt.ylabel(\"values\")\n",
    "plt.grid()\n",
    "plt.show()"
   ]
  },
  {
   "cell_type": "code",
   "execution_count": 27,
   "metadata": {},
   "outputs": [
    {
     "data": {
      "image/png": "[encoded data removed]",
      "text/plain": [
       "<Figure size 432x288 with 1 Axes>"
      ]
     },
     "metadata": {
      "needs_background": "light"
     },
     "output_type": "display_data"
    }
   ],
   "source": [
    "g.connect(3, 0)\n",
    "\n",
    "eigenvalues, eigenvectors = np.linalg.eig(laplacian_matrix(g))\n",
    "sorted_indices = np.argsort(eigenvalues)\n",
    "sorted_eigenvalues = eigenvalues[sorted_indices]\n",
    "plt.scatter(list(range(len(eigenvalues))), sorted_eigenvalues)\n",
    "plt.xlabel(\"index\")\n",
    "plt.ylabel(\"values\")\n",
    "plt.grid()\n",
    "plt.show()"
   ]
  },
  {
   "cell_type": "code",
   "execution_count": 28,
   "metadata": {},
   "outputs": [
    {
     "data": {
      "image/png": "[encoded data removed]",
      "text/plain": [
       "<Figure size 432x288 with 1 Axes>"
      ]
     },
     "metadata": {
      "needs_background": "light"
     },
     "output_type": "display_data"
    }
   ],
   "source": [
    "g.connect(0, 2)\n",
    "g.connect(1, 3)\n",
    "\n",
    "eigenvalues, eigenvectors = np.linalg.eig(laplacian_matrix(g))\n",
    "sorted_indices = np.argsort(eigenvalues)\n",
    "sorted_eigenvalues = eigenvalues[sorted_indices]\n",
    "plt.scatter(list(range(len(eigenvalues))), sorted_eigenvalues)\n",
    "plt.xlabel(\"index\")\n",
    "plt.ylabel(\"values\")\n",
    "plt.grid()\n",
    "plt.show()"
   ]
  },
  {
   "cell_type": "markdown",
   "metadata": {},
   "source": [
    "**Explain the meaning of the eigenvalues and describe the change in the eigenvalues as the edges were added to the graph here**:\n",
    "\n",
    "As we know the Laplacian matrix is a square matrix derived from a graph, where each entry represents the relationship between two vertices (nodes) in the graph so the eigenvalues provide valuable information about the graph's structural properties.\n",
    "\n",
    "One of these properites is graph connectivity: The multiplicity of the eigenvalue zero corresponds to the number of connected components in a graph. If there is only one connected component, then zero is a simple eigenvalue with multiplicity 1.Therefore, by adding an edge to a graph, the number of connected components decreases, the multiplicity of the zero eigenvalue decreases, and the number of nonzero eigenvalues increases.\n",
    "\n",
    "In the first state, our graph has no edges so it has 4 components. As we see multiplicity of 0 is 4.\n",
    "\n",
    "g.connect(0, 1) => now our graph has 3 components. So multiplicity of 0 is 3 and we have one nonzero eigenvalue.This show we have 3 components and there exists a path between node 0 and 1.\n",
    "\n",
    "g.connect(1, 2) => now our graph has 2 components. So multiplicity of 0 is 2 and we have two nonzero eigenvalue.This show we have 2 components and There exists a path between each pair of vertices 0, 1, and 2.\n",
    "\n",
    "g.connect(2, 3) => now our graph has just one component. So multiplicity of 0 is 1 and we have three nonzero eigenvalue. This show we have 1 component and There exists a path between each pair of vertices 0, 1, 2 and 3. After this fielder value is not zero and it will be positive.\n",
    "\n",
    "Three remaining edges make fielder value bigger bucause they make graph more connected. In the last step all eigenvalues except one of them, are equal and this show that the graph is fully connected."
   ]
  },
  {
   "cell_type": "markdown",
   "metadata": {},
   "source": [
    "## Clustering Eigenvectors"
   ]
  },
  {
   "cell_type": "markdown",
   "metadata": {},
   "source": [
    "Next we use KMeans to cluster the data points in the lower dimensional space. We can then assign each data point to the cluster with the nearest centroid. Finally, we can plot the data points and color them according to their cluster assignments. We can also plot the eigenvectors corresponding to the $k$ smallest eigenvalues. The eigenvectors can be viewed as the coordinates of the data points in the lower dimensional space. We can see that the eigenvectors corresponding to the $k$ smallest eigenvalues can separate the data points into $k$ clusters."
   ]
  },
  {
   "cell_type": "code",
   "execution_count": 29,
   "metadata": {},
   "outputs": [],
   "source": [
    "from sklearn.cluster import KMeans\n",
    "\n",
    "def cluster(graph: Graph, N: int):\n",
    "    assert N <= graph.N\n",
    "    clusterer = KMeans(N)\n",
    "    _, vecs = laplacian_values(graph, N)\n",
    "    clusterer.fit(vecs)\n",
    "    graph.clustered_nodes = dict([i, set()] for i in range(N))\n",
    "    for N, label in enumerate(clusterer.labels_):\n",
    "        graph.clustered_nodes[label].add(N)"
   ]
  },
  {
   "cell_type": "code",
   "execution_count": 30,
   "metadata": {},
   "outputs": [],
   "source": [
    "import matplotlib.colors as mcolors\n",
    "import graphviz\n",
    "\n",
    "def plot(graph: Graph):\n",
    "    g = graphviz.Graph()\n",
    "    for cluster, color in zip(graph.clustered_nodes.keys(), mcolors.CSS4_COLORS.values()):\n",
    "        with g.subgraph(name=f'C{cluster}') as gcl:\n",
    "            for node in graph.clustered_nodes[cluster]:\n",
    "                gcl.node(f'N{node}', style='filled', fillcolor=color)\n",
    "    for A in graph.nodes:\n",
    "        for B in graph.vertices[A]:\n",
    "            if B > A:\n",
    "                g.edge(f'N{A}', f'N{B}')\n",
    "    g.view()"
   ]
  },
  {
   "cell_type": "code",
   "execution_count": 31,
   "metadata": {},
   "outputs": [],
   "source": [
    "g = Graph()\n",
    "g.add_node()\n",
    "g.add_node()\n",
    "g.connect(0, 1)\n",
    "g.add_node()\n",
    "g.connect(0, 2)\n",
    "g.connect(1, 2)\n",
    "g.add_node()\n",
    "g.add_node()\n",
    "g.connect(3, 4)\n",
    "g.add_node()\n",
    "g.connect(3, 5)\n",
    "g.connect(4, 5)\n",
    "g.add_node()\n",
    "g.connect(5, 6)\n",
    "g.add_node()\n",
    "g.connect(5, 7)\n",
    "g.connect(6, 7)\n",
    "g.add_node()\n",
    "g.connect(0, 8)\n",
    "g.add_node()\n",
    "g.connect(0, 9)\n",
    "g.connect(8, 9)\n",
    "g.connect(0, 5)\n",
    "cluster(g, 3)\n",
    "plot(g)"
   ]
  },
  {
   "cell_type": "markdown",
   "metadata": {},
   "source": [
    "## Cluster Circles"
   ]
  },
  {
   "cell_type": "markdown",
   "metadata": {},
   "source": [
    "First we make the circles. We can use the make_circles function in sklearn.datasets to make two circles. We can then plot the circles. We can see that the circles are not linearly separable."
   ]
  },
  {
   "cell_type": "code",
   "execution_count": 32,
   "metadata": {},
   "outputs": [
    {
     "data": {
      "image/png": "[encoded data removed]",
      "text/plain": [
       "<Figure size 432x288 with 1 Axes>"
      ]
     },
     "metadata": {
      "needs_background": "light"
     },
     "output_type": "display_data"
    }
   ],
   "source": [
    "from sklearn.datasets import make_circles\n",
    "\n",
    "X, labels = make_circles(n_samples=2000, noise=.1, factor=.1)\n",
    "plt.plot(X[:,0], X[:,1], 'o')\n",
    "plt.show()"
   ]
  },
  {
   "cell_type": "markdown",
   "metadata": {},
   "source": [
    "Now we construct adjacency matrix using kNN. We use kneighbors_graph function in sklearn.neighbors to construct the adjacency matrix. We can then construct the degree matrix and the laplacian matrix. We can then calculate the eigenvectors and eigenvalues of the laplacian matrix."
   ]
  },
  {
   "cell_type": "code",
   "execution_count": 33,
   "metadata": {},
   "outputs": [],
   "source": [
    "from sklearn.neighbors import kneighbors_graph\n",
    "\n",
    "adjacency_matrix = kneighbors_graph(X, n_neighbors=5).toarray()\n",
    "\n",
    "degree_mat = np.zeros((adjacency_matrix.shape[0], adjacency_matrix.shape[1]), dtype=int)\n",
    "for i in range(adjacency_matrix.shape[0]) :\n",
    "    for j in range(adjacency_matrix.shape[1]) :\n",
    "        degree_mat[i][i] += adjacency_matrix[i][j]\n",
    "\n",
    "\n",
    "laplacian_mat = degree_mat - adjacency_matrix\n",
    "eigenvalues, eigenvectors = np.linalg.eig(laplacian_mat)\n",
    "sorted_indices = np.argsort(eigenvalues)\n",
    "vals = eigenvalues[sorted_indices]\n",
    "vecs = eigenvectors[:, sorted_indices]"
   ]
  },
  {
   "cell_type": "markdown",
   "metadata": {},
   "source": [
    "Now let's cluster them using the Fielder value. We can see that the circles are separated into two clusters."
   ]
  },
  {
   "cell_type": "code",
   "execution_count": 34,
   "metadata": {},
   "outputs": [
    {
     "data": {
      "image/png": "[encoded data removed]",
      "text/plain": [
       "<Figure size 432x288 with 1 Axes>"
      ]
     },
     "metadata": {
      "needs_background": "light"
     },
     "output_type": "display_data"
    }
   ],
   "source": [
    "clusters = vecs[:,1] > 0\n",
    "plt.plot(X[clusters,0], X[clusters,1], 'o')\n",
    "plt.plot(X[~clusters,0], X[~clusters,1], 'o')\n",
    "plt.show()"
   ]
  }
 ],
 "metadata": {
  "kernelspec": {
   "display_name": "Python 3 (ipykernel)",
   "language": "python",
   "name": "python3"
  },
  "language_info": {
   "codemirror_mode": {
    "name": "ipython",
    "version": 3
   },
   "file_extension": ".py",
   "mimetype": "text/x-python",
   "name": "python",
   "nbconvert_exporter": "python",
   "pygments_lexer": "ipython3",
   "version": "3.11.5"
  },
  "vscode": {
   "interpreter": {
    "hash": "4cdab81cfa56356ab5b949f60df5e1e80f63026375d4bba17a1c6608f8c1fd40"
   }
  }
 },
 "nbformat": 4,
 "nbformat_minor": 4
}
